{
 "cells": [
  {
   "cell_type": "markdown",
   "metadata": {},
   "source": [
    "# Object Oriented Programming 2 - examples and APIs\n"
   ]
  },
  {
   "cell_type": "markdown",
   "metadata": {},
   "source": [
    "## Tasks Today:\n",
    "\n",
    "   \n",
    "\n",
    "1) <b>Shopping Cart Example</b> <br>\n",
    "2) <b>Requests and the pokemon API </b> <br>\n",
    " "
   ]
  },
  {
   "cell_type": "markdown",
   "metadata": {},
   "source": [
    "# Goal \n",
    "### build a shopping cart program with prices and quantities using objects and a dictionary"
   ]
  },
  {
   "cell_type": "code",
   "execution_count": 1,
   "metadata": {},
   "outputs": [
    {
     "name": "stdout",
     "output_type": "stream",
     "text": [
      "Welcome to cart. 1 show 2 add 3 remove 4 checkout\n",
      "enter choice5\n"
     ]
    }
   ],
   "source": [
    "from IPython.display import clear_output as clear\n",
    "# Create a class called cart that retains items and has methods to add, remove, and show\n",
    "\n",
    "class Cart:\n",
    "    def __init__(self):\n",
    "        self.items = {}\n",
    "    \n",
    "    def add_item(self):\n",
    "        clear()\n",
    "        new_item = input(\"what would you lile to add? \")\n",
    "        quantity = int(input(\"how many would you like? \"))\n",
    "        if new_item not in self.items:\n",
    "            self.items[new_item] = quantity\n",
    "        else:\n",
    "            self.items[new_item] += quantity\n",
    "        print(f\"{quantity} {new_item} have been added to the cart!\")\n",
    "    \n",
    "    def remove_item(self):\n",
    "        clear()\n",
    "        discard = input(\"what would you like to remove? \")\n",
    "        quantity = int(input(\"How many would you like to remove?\" ))\n",
    "        try:\n",
    "            self.items[discard] -= quantity\n",
    "            if self.items[discard] <= 0:\n",
    "                del self.items[discard]\n",
    "            print()\n",
    "        except:\n",
    "            print(f\"{discard} is not in your cart\")\n",
    "    \n",
    "    def show(self):\n",
    "        clear()\n",
    "        print(\"the following items are in your cart: \")\n",
    "        for item, quantity in self.items.items():\n",
    "            print(f\"{item}, {quantity}\")\n",
    "            \n",
    "    def checkout(self):\n",
    "        if not self.items:\n",
    "            print(\"buy sjpdlksdkfj\")\n",
    "        else:\n",
    "            print(\"thank\")\n",
    "        \n",
    "class Main:\n",
    "    def showInstructions():\n",
    "        print(\"\"\"Welcome to cart. 1 show 2 add 3 remove 4 checkout\"\"\")\n",
    "    \n",
    "    #DRIVER CODE VROOM VROOM\n",
    "    def run():\n",
    "        Main.showInstructions()\n",
    "        my_cart = Cart()\n",
    "        \n",
    "        while True:\n",
    "            choice = input(\"enter choice\")\n",
    "            if choice == \"1\":\n",
    "                my_cart.show()\n",
    "            elif choice == \"2\":\n",
    "                my_cart.add_item()\n",
    "            elif choice == \"3\":\n",
    "                my_cart.remove_item()\n",
    "            elif choice == \"4\":\n",
    "                my_cart.checkout()\n",
    "            elif choice == \"5\":\n",
    "                break\n",
    "                  \n",
    "\n",
    "Main.run()\n",
    "\n",
    "                  \n",
    "    \n"
   ]
  },
  {
   "cell_type": "markdown",
   "metadata": {},
   "source": [
    "# working with APis"
   ]
  },
  {
   "cell_type": "markdown",
   "metadata": {},
   "source": [
    "<p> What exactly is an API? <br> <br>\n",
    "API is the acronym for Application Programming Interface, which is a software intermediary that allows two applications to talk to each other. Each time you use an app like Facebook, send an instant message, or check the weather on your phone, you're using an API. </p>"
   ]
  },
  {
   "cell_type": "markdown",
   "metadata": {},
   "source": [
    "### The Poke API  allows you to retreive a pokemon's information from PokeAPI https://pokeapi.co/\n",
    "\n"
   ]
  },
  {
   "cell_type": "code",
   "execution_count": 19,
   "metadata": {},
   "outputs": [
    {
     "name": "stdout",
     "output_type": "stream",
     "text": [
      "dict_keys(['abilities', 'base_experience', 'forms', 'game_indices', 'height', 'held_items', 'id', 'is_default', 'location_area_encounters', 'moves', 'name', 'order', 'past_types', 'species', 'sprites', 'stats', 'types', 'weight'])\n"
     ]
    }
   ],
   "source": [
    "# making an API call\n",
    "import requests\n",
    "r = requests.get(\"https://pokeapi.co/api/v2/pokemon/pikachu\")\n",
    "\n",
    "if r.status_code == 200:\n",
    "    data = r.json()\n",
    "    \n",
    "print(data.keys())\n"
   ]
  },
  {
   "cell_type": "markdown",
   "metadata": {},
   "source": [
    "### Display a Pokemon's name, weight, abilities, and types"
   ]
  },
  {
   "cell_type": "code",
   "execution_count": 17,
   "metadata": {},
   "outputs": [
    {
     "name": "stdout",
     "output_type": "stream",
     "text": [
      "pikachu\n"
     ]
    }
   ],
   "source": [
    "name = data['name']\n",
    "\n",
    "print(name)\n"
   ]
  },
  {
   "cell_type": "code",
   "execution_count": 18,
   "metadata": {},
   "outputs": [
    {
     "name": "stdout",
     "output_type": "stream",
     "text": [
      "electric\n",
      "['electric']\n"
     ]
    }
   ],
   "source": [
    "type_ = data['types'][0]['type']['name']\n",
    "\n",
    "print(type_)\n",
    "\n",
    "type__ = [pokemon['type']['name'] for pokemon in data['types']]\n",
    "\n",
    "print(type__)\n"
   ]
  },
  {
   "cell_type": "code",
   "execution_count": 11,
   "metadata": {},
   "outputs": [
    {
     "name": "stdout",
     "output_type": "stream",
     "text": [
      "60\n"
     ]
    }
   ],
   "source": [
    "weight = data['weight']\n",
    "\n",
    "print(weight)\n"
   ]
  },
  {
   "cell_type": "code",
   "execution_count": 12,
   "metadata": {},
   "outputs": [
    {
     "name": "stdout",
     "output_type": "stream",
     "text": [
      "['static', 'lightning-rod']\n"
     ]
    }
   ],
   "source": [
    "abilities = [ability['ability']['name'] for ability in data['abilities']]\n",
    "\n",
    "print(abilities)\n"
   ]
  },
  {
   "cell_type": "code",
   "execution_count": 6,
   "metadata": {},
   "outputs": [],
   "source": [
    "# Create a structure for a single pokemon\n",
    "my_pokemon = {\n",
    "    'name':'',\n",
    "    'abilities':[],\n",
    "    'weight':0,\n",
    "}\n"
   ]
  },
  {
   "cell_type": "code",
   "execution_count": 21,
   "metadata": {},
   "outputs": [
    {
     "data": {
      "text/plain": [
       "{'name': 'pikachu', 'abilities': ['static', 'lightning-rod'], 'weight': 60}"
      ]
     },
     "execution_count": 21,
     "metadata": {},
     "output_type": "execute_result"
    }
   ],
   "source": [
    "name = data['name']\n",
    "weight = data['weight']\n",
    "abilities = [ability['ability']['name'] for ability in data['abilities']]\n",
    "\n",
    "my_pokemon = {\n",
    "    'name':'',\n",
    "    'abilities':[],\n",
    "    'weight':0,\n",
    "}\n",
    "\n",
    "\n",
    "pikachu = {\n",
    "    'name': name, \n",
    "    'abilities': abilities,\n",
    "    'weight': weight\n",
    "}\n",
    "\n",
    "pikachu"
   ]
  },
  {
   "cell_type": "markdown",
   "metadata": {},
   "source": [
    "#### Create a function to Pull in your own Pokemon's data "
   ]
  },
  {
   "cell_type": "code",
   "execution_count": 43,
   "metadata": {},
   "outputs": [
    {
     "name": "stdout",
     "output_type": "stream",
     "text": [
      "carnivine\n"
     ]
    }
   ],
   "source": [
    "import requests\n",
    "\n",
    "def poke_api_call(pokemon):\n",
    "    req = requests.get(f\"https://pokeapi.co/api/v2/pokemon/{pokemon}\")\n",
    "    if req.status_code == 200:\n",
    "        data = req.json()\n",
    "        name = data['name']\n",
    "        types= [type_['type']['name'] for type_ in data['types']]\n",
    "        weight = data['weight']\n",
    "        abilities = [ability['ability']['name'] for ability in data['abilities']]\n",
    "        poke = {\n",
    "        'name': name, \n",
    "        'abilities': abilities,\n",
    "        'types': types,\n",
    "        'weight': weight\n",
    "        }\n",
    "    return poke\n",
    "\n",
    "print(poke_api_call(455)['name'])\n"
   ]
  },
  {
   "cell_type": "markdown",
   "metadata": {},
   "source": [
    "Choose your pokemon"
   ]
  },
  {
   "cell_type": "code",
   "execution_count": 23,
   "metadata": {},
   "outputs": [
    {
     "name": "stdout",
     "output_type": "stream",
     "text": [
      "[741, 367, 367, 703, 607, 213]\n",
      "[741, 367, 367, 703, 607, 213]\n"
     ]
    }
   ],
   "source": [
    "from random import randint\n",
    "# Random number generated for each pokemon id\n",
    "random_team = [randint(1,898) for i in range(6)]\n",
    "\n",
    "your_team = ['electabuzz', 'haunter','tyranitar','blaziken','marowak','dragonair']\n",
    "\n",
    "print(random_team)\n",
    "\n",
    "my_team = random_team\n",
    "print(my_team)"
   ]
  },
  {
   "cell_type": "markdown",
   "metadata": {},
   "source": [
    "#### Use your function to create a dictionary of your Johto League 6  (favorite 6 pokemon)"
   ]
  },
  {
   "cell_type": "code",
   "execution_count": 61,
   "metadata": {},
   "outputs": [
    {
     "name": "stdout",
     "output_type": "stream",
     "text": [
      "Oricorio-Baile weighs 34 pounds (and looks great!) \n",
      "They are really good at:\n",
      "\t-dancer\n",
      "Huntail weighs 270 pounds (and looks great!) \n",
      "They are really good at:\n",
      "\t-swift-swim\n",
      "\t-water-veil\n",
      "Carbink weighs 57 pounds (and looks great!) \n",
      "They are really good at:\n",
      "\t-clear-body\n",
      "\t-sturdy\n",
      "Litwick weighs 31 pounds (and looks great!) \n",
      "They are really good at:\n",
      "\t-flash-fire\n",
      "\t-flame-body\n",
      "\t-infiltrator\n",
      "Shuckle weighs 205 pounds (and looks great!) \n",
      "They are really good at:\n",
      "\t-sturdy\n",
      "\t-gluttony\n",
      "\t-contrary\n"
     ]
    }
   ],
   "source": [
    "# Place all 6 of your pokemon on the object below, each pokemon should have at least as much info as Pikachu did.\n",
    "my_six_pokemon = {}\n",
    "\n",
    "for mon in my_team:\n",
    "    poke_stats = poke_api_call(mon)\n",
    "    my_six_pokemon[poke_stats['name'].title()] = poke_stats\n",
    "    \n",
    "for member in my_six_pokemon.items():\n",
    "    print(f\"{member[1]['name'].title()} weighs {member[1]['weight']} pounds (and looks great!) \\nThey are really good at:\")\n",
    "    for ability in member[1]['abilities']:\n",
    "        print(f\"\\t-{ability}\")\n"
   ]
  },
  {
   "cell_type": "markdown",
   "metadata": {},
   "source": [
    "## Lets create a class called 'Pokemon' and create our pokemon as instances"
   ]
  },
  {
   "cell_type": "code",
   "execution_count": 67,
   "metadata": {},
   "outputs": [],
   "source": [
    "class Pokemon():\n",
    "    def __init__(self, name):\n",
    "        self.name = name\n",
    "        self.types = []\n",
    "        self.abilities = []\n",
    "        self.weight = 0\n",
    "        self.poke_api_call() #calls poke appi call when object created\n",
    "        \n",
    "    def poke_api_call(self):\n",
    "        req = requests.get(f\"https://pokeapi.co/api/v2/pokemon/{self.name}\")\n",
    "        if req.status_code == 200:\n",
    "            data = req.json()\n",
    "            self.name = data['name']\n",
    "            self.types= [type_['type']['name'] for type_ in data['types']]\n",
    "            self.weight = data['weight']\n",
    "            self.abilities = [ability['ability']['name'] for ability in data['abilities']]\n",
    "            print(f\"{self.name} data has been updated\")\n",
    "        else:\n",
    "            print(f\"ran into an issue {req.status_code}\")\n",
    "            return\n",
    "    \n",
    "    def __repr__(self): #special method, returns info about class\n",
    "        return f\"You caught a {self.name}\""
   ]
  },
  {
   "cell_type": "markdown",
   "metadata": {},
   "source": [
    "### Let's Catch some Pokemon"
   ]
  },
  {
   "cell_type": "code",
   "execution_count": 75,
   "metadata": {},
   "outputs": [
    {
     "name": "stdout",
     "output_type": "stream",
     "text": [
      "pikachu data has been updated\n",
      "60\n",
      "lightning-rod\n",
      "pikachu data has been updated\n",
      "You caught a pikachu\n"
     ]
    }
   ],
   "source": [
    "pika = Pokemon(\"pikachu\")\n",
    "\n",
    "print(pika.weight)\n",
    "print(pika.abilities[1])\n",
    "\n",
    "print(Pokemon(\"pikachu\"))\n"
   ]
  },
  {
   "cell_type": "code",
   "execution_count": 76,
   "metadata": {},
   "outputs": [
    {
     "name": "stdout",
     "output_type": "stream",
     "text": [
      "oricorio-baile data has been updated\n",
      "huntail data has been updated\n",
      "huntail data has been updated\n",
      "carbink data has been updated\n",
      "litwick data has been updated\n",
      "shuckle data has been updated\n"
     ]
    },
    {
     "data": {
      "text/plain": [
       "{741: You caught a oricorio-baile,\n",
       " 367: You caught a huntail,\n",
       " 703: You caught a carbink,\n",
       " 607: You caught a litwick,\n",
       " 213: You caught a shuckle}"
      ]
     },
     "execution_count": 76,
     "metadata": {},
     "output_type": "execute_result"
    }
   ],
   "source": [
    "my_pokemon = [741, 367, 367, 703, 607, 213]\n",
    "\n",
    "pokedex = {}\n",
    "\n",
    "for mon in my_pokemon:\n",
    "    pokeball = Pokemon(mon)\n",
    "    pokedex[mon] = pokeball\n",
    "\n",
    "pokedex\n",
    "\n",
    "    \n"
   ]
  },
  {
   "cell_type": "markdown",
   "metadata": {},
   "source": [
    "## Exercise 1:"
   ]
  },
  {
   "cell_type": "markdown",
   "metadata": {},
   "source": [
    "### Create a Method prints an image of your pokemon\n",
    "\n",
    "<p>HINT: You may need another attribute as well to store your image url within. </p>"
   ]
  },
  {
   "cell_type": "code",
   "execution_count": 82,
   "metadata": {},
   "outputs": [
    {
     "name": "stdout",
     "output_type": "stream",
     "text": [
      "pikachu data has been updated\n"
     ]
    },
    {
     "data": {
      "text/html": [
       "<img src=\"https://raw.githubusercontent.com/PokeAPI/sprites/master/sprites/pokemon/other/home/25.png\" width=\"100\"/>"
      ],
      "text/plain": [
       "<IPython.core.display.Image object>"
      ]
     },
     "metadata": {},
     "output_type": "display_data"
    }
   ],
   "source": [
    "# Display an image in Jupyter notebook\n",
    "from IPython.display import Image\n",
    "\n",
    "# display(Image( 'https://i.redd.it/45n4mhusa8l41.jpg', width = 300))\n",
    "\n",
    "class Pokemon():\n",
    "    def __init__(self, name):\n",
    "        self.name = name\n",
    "        self.types = []\n",
    "        self.abilities = []\n",
    "        self.weight = 0\n",
    "        self.image = None\n",
    "        self.poke_api_call() #calls poke appi call when object created\n",
    "        \n",
    "        \n",
    "    def poke_api_call(self):\n",
    "        req = requests.get(f\"https://pokeapi.co/api/v2/pokemon/{self.name}\")\n",
    "        if req.status_code == 200:\n",
    "            data = req.json()\n",
    "            self.name = data['name']\n",
    "            self.types= [type_['type']['name'] for type_ in data['types']]\n",
    "            self.weight = data['weight']\n",
    "            self.abilities = [ability['ability']['name'] for ability in data['abilities']]\n",
    "            self.image = data['sprites']['other']['home']['front_default']\n",
    "            print(f\"{self.name} data has been updated\")\n",
    "        else:\n",
    "            print(f\"ran into an issue {req.status_code}\")\n",
    "            return\n",
    "    def display(self):\n",
    "        display(Image(url=self.image, width = 100))\n",
    "    \n",
    "    def __repr__(self): #special method, returns info about class\n",
    "        return f\"You caught a {self.name}\"\n",
    "    \n",
    "Pokemon('pikachu').display()"
   ]
  },
  {
   "cell_type": "code",
   "execution_count": 16,
   "metadata": {},
   "outputs": [],
   "source": [
    "# recreate your pokemon class here\n",
    "class Pokemon:\n",
    "    pass"
   ]
  },
  {
   "cell_type": "code",
   "execution_count": null,
   "metadata": {},
   "outputs": [],
   "source": []
  },
  {
   "cell_type": "code",
   "execution_count": 18,
   "metadata": {},
   "outputs": [],
   "source": [
    "# Calling our new method\n"
   ]
  },
  {
   "cell_type": "markdown",
   "metadata": {},
   "source": [
    "## Exercise 2:"
   ]
  },
  {
   "cell_type": "markdown",
   "metadata": {},
   "source": [
    "### Create a Method that evolves your Pokemon\n",
    "If your pokemon can't evolve any further print a message that says \"\\<name of pokemon> can't evolve.\""
   ]
  },
  {
   "cell_type": "code",
   "execution_count": 115,
   "metadata": {
    "scrolled": true
   },
   "outputs": [],
   "source": [
    "import requests \n",
    "\n",
    "from time import sleep\n",
    "class Evolver:\n",
    "    def evolve(self):\n",
    "        r=requests.get(f\"https://pokeapi.co/api/v2/pokemon-species/{self.name}/\")\n",
    "        if r.status_code != 200:\n",
    "            print(f\"species status {r.status_code}\")\n",
    "            return\n",
    "        else:\n",
    "            pokemon_species = r.json()\n",
    "            \n",
    "        r2 = requests.get(pokemon_species['evolution_chain']['url'])\n",
    "        if r2.status_code != 200:\n",
    "            print(f\"species status {r2.status_code}\")\n",
    "        else: \n",
    "            ev_chain = r2.json()\n",
    "            ev_chain = ev_chain['chain']\n",
    "    \n",
    "        base_name = ev_chain['species']['name']\n",
    "        evolution = ev_chain['evolves_to'][0]\n",
    "        evolution_name = evolution['species']['name']\n",
    "    \n",
    "        if base_name == self.name:\n",
    "            pass\n",
    "        \n",
    "        elif evolution_name == self.name:\n",
    "            evolution_name = evolution['evolves_to'][0]['species']['name']\n",
    "        \n",
    "        else:\n",
    "            print(\"evolutions done\")\n",
    "            return\n",
    "        \n",
    "        print('......')\n",
    "        sleep(1)    \n",
    "        print(f\"Your {self.name} is evolving!?!?\")\n",
    "        self.display()\n",
    "        sleep(1)\n",
    "        print('................')\n",
    "        self.name = evolution_name\n",
    "        self.poke_api_call()\n",
    "        self.display()\n",
    "    "
   ]
  },
  {
   "cell_type": "code",
   "execution_count": 116,
   "metadata": {},
   "outputs": [],
   "source": [
    "import requests \n",
    "\n",
    "class Pokemon(Evolver):\n",
    "    def __init__(self, name):\n",
    "        self.name = name\n",
    "        self.types = []\n",
    "        self.abilities = []\n",
    "        self.weight = 0\n",
    "        self.image = None\n",
    "        self.poke_api_call() #calls poke appi call when object created\n",
    "        \n",
    "        \n",
    "    def poke_api_call(self):\n",
    "        req = requests.get(f\"https://pokeapi.co/api/v2/pokemon/{self.name}\")\n",
    "        if req.status_code == 200:\n",
    "            data = req.json()\n",
    "            self.name = data['name']\n",
    "            self.types= [type_['type']['name'] for type_ in data['types']]\n",
    "            self.weight = data['weight']\n",
    "            self.abilities = [ability['ability']['name'] for ability in data['abilities']]\n",
    "            self.image = data['sprites']['other']['home']['front_default']\n",
    "            print(f\"{self.name} data has been updated\")\n",
    "        else:\n",
    "            print(f\"ran into an issue {req.status_code}\")\n",
    "            return\n",
    "    def display(self):\n",
    "        display(Image(url=self.image, width = 100))\n",
    "    \n",
    "    def __repr__(self): #special method, returns info about class\n",
    "        return f\"You caught a {self.name}\"\n",
    "    "
   ]
  },
  {
   "cell_type": "markdown",
   "metadata": {},
   "source": [
    "Now let's evolve a few"
   ]
  },
  {
   "cell_type": "code",
   "execution_count": 117,
   "metadata": {},
   "outputs": [
    {
     "name": "stdout",
     "output_type": "stream",
     "text": [
      "charmander data has been updated\n"
     ]
    }
   ],
   "source": [
    "charmander = Pokemon(\"charmander\")\n"
   ]
  },
  {
   "cell_type": "code",
   "execution_count": 120,
   "metadata": {},
   "outputs": [
    {
     "name": "stdout",
     "output_type": "stream",
     "text": [
      "evolutions done\n"
     ]
    }
   ],
   "source": [
    "charmander.evolve()"
   ]
  },
  {
   "cell_type": "markdown",
   "metadata": {},
   "source": [
    "#  Final Exercise: <br> <br>Create a Move_Tutor Class that will allow the Pokemon Class to inherit a move list.\n",
    "<br>\n",
    "<p>for an added bonus you can make sure that if a pokemon has 4 moves the user can choose one of them to replace with a new move. </p>"
   ]
  },
  {
   "cell_type": "code",
   "execution_count": null,
   "metadata": {},
   "outputs": [],
   "source": []
  },
  {
   "cell_type": "code",
   "execution_count": null,
   "metadata": {},
   "outputs": [
    {
     "name": "stdout",
     "output_type": "stream",
     "text": [
      "Enter the name of a pokemon to train! Enter 'Q' to quit: pikachu\n",
      "Pikachu is ready to train!\n",
      "What move would you like to teach pikachu? slam\n",
      "Pikachu has learned slam!\n",
      "\n",
      "What move would you like to teach pikachu? dig\n",
      "Pikachu has learned dig!\n",
      "\n",
      "What move would you like to teach pikachu? Dance!\n",
      "Sorry, pikachu can't learn dance!.\n",
      "What move would you like to teach pikachu? pay-day\n",
      "Pikachu has learned pay-day!\n",
      "\n",
      "What move would you like to teach pikachu? surf\n",
      "Pikachu has learned surf!\n",
      "\n",
      "Wow! pikachu knows the maximum number of moves!\n",
      "\n",
      "Pikachu knows:\n",
      "\tSlam\n",
      "\tDig\n",
      "\tPay-Day\n",
      "\tSurf\n",
      "If you are satisfied with pikachu's training, Enter 'Q' to quit. Otherwise, enter a move you would like to replace: surf\n"
     ]
    }
   ],
   "source": [
    "import requests\n",
    "\n",
    "class Move_Tutor:\n",
    "    def __init__(self):\n",
    "        self.move_list = []\n",
    "    \n",
    "    def known_moves(self):\n",
    "        return len(self.move_list)\n",
    "    \n",
    "    def retrain(self):\n",
    "        print(f\"Wow! {self.name} knows the maximum number of moves!\")\n",
    "        while True:\n",
    "            self.show_moves()\n",
    "            switch = input(f\"If you are satisfied with {self.name}'s training, Enter 'Q' to quit. Otherwise, enter a move you would like to replace: \").lower()\n",
    "            if switch == \"q\":\n",
    "                print(\"\\nGoodbye!\")\n",
    "                return False\n",
    "            elif switch in self.move_list:\n",
    "                new_move = input(f\"What move would you like to replace {switch} with? \").lower()\n",
    "                if self.check_move(new_move) == True:\n",
    "                    self.move_list.remove(switch)\n",
    "                    self.move_list.append(new_move)\n",
    "                    print(f\"{self.name.title()} has learned {new_move}!\")\n",
    "                else:\n",
    "                    print(f\"Sorry, {self.name} can't learn {new_move}\")\n",
    "            else:\n",
    "                print(f\"{self.name} doesn't know {switch}! Try again\")\n",
    "        return False          \n",
    "    \n",
    "    def teach_move(self):\n",
    "        taught_move = input(f\"What move would you like to teach {self.name}? \").lower()\n",
    "        if taught_move == 'q':\n",
    "            print(\"\\nGoodbye!\")\n",
    "            return False\n",
    "        elif self.check_move(taught_move) == True:\n",
    "            print(f\"{self.name.title()} has learned {taught_move}!\\n\")\n",
    "            self.move_list.append(taught_move)\n",
    "            if self.known_moves() >= 4:\n",
    "                self.retrain()\n",
    "        else:\n",
    "            print(f\"Sorry, {self.name} can't learn {taught_move}.\")\n",
    "        return True\n",
    "            \n",
    "    def check_move(self, x):\n",
    "        if x.lower() in self.p_moves:\n",
    "            return True\n",
    "        \n",
    "    def show_moves(self):\n",
    "        print(f\"\\n{self.name.title()} knows:\")\n",
    "        for x in self.move_list:\n",
    "            print(f\"\\t{x.title()}\")\n",
    "    \n",
    "    \n",
    "class Pokemoves(Move_Tutor):\n",
    "    def __init__(self, name):\n",
    "        Move_Tutor.__init__(self)\n",
    "        self.name = name\n",
    "        self.p_moves = []\n",
    "        self.poke_api_call()\n",
    "    \n",
    "    def poke_api_call(self):\n",
    "        req = requests.get(f\"https://pokeapi.co/api/v2/pokemon/{self.name}\")\n",
    "        if req.status_code == 200:\n",
    "            data = req.json()\n",
    "            self.name = data['name']\n",
    "            self.p_moves = [move['move']['name'] for move in data['moves']]\n",
    "            print(f\"{self.name.title()} is ready to train!\")\n",
    "        else:\n",
    "            print(f\"Errorcode {req.status_code}\")\n",
    "                        \n",
    "# pikamoves.teach_move() \n",
    "        \n",
    "class Main:\n",
    "    def run():\n",
    "        poke = input(\"Enter the name of a pokemon to train! Enter 'Q' to quit: \").lower()\n",
    "        if poke == 'q':\n",
    "            print(\"goodbye!\")\n",
    "            return\n",
    "        else:\n",
    "            train = Pokemoves(poke)\n",
    "            while train.teach_move():\n",
    "                train.teach_move()\n",
    "        return\n",
    "\n",
    "Main.run()\n",
    "            \n",
    "        \n"
   ]
  },
  {
   "cell_type": "code",
   "execution_count": 12,
   "metadata": {},
   "outputs": [
    {
     "name": "stdout",
     "output_type": "stream",
     "text": [
      "3\n"
     ]
    }
   ],
   "source": []
  },
  {
   "cell_type": "code",
   "execution_count": null,
   "metadata": {},
   "outputs": [],
   "source": []
  },
  {
   "cell_type": "code",
   "execution_count": 81,
   "metadata": {},
   "outputs": [
    {
     "name": "stdout",
     "output_type": "stream",
     "text": [
      "What move would you like to teach pikachu? spark\n",
      "pikachu learned spark!\n"
     ]
    }
   ],
   "source": [
    "pikachu.teach_move()\n"
   ]
  },
  {
   "cell_type": "code",
   "execution_count": 79,
   "metadata": {},
   "outputs": [
    {
     "name": "stdout",
     "output_type": "stream",
     "text": [
      "pikachu's moves'\n",
      "thunder\n",
      "surf\n",
      "earthquake\n"
     ]
    }
   ],
   "source": [
    "pikachu.show_moves()"
   ]
  }
 ],
 "metadata": {
  "kernelspec": {
   "display_name": "Python 3 (ipykernel)",
   "language": "python",
   "name": "python3"
  },
  "language_info": {
   "codemirror_mode": {
    "name": "ipython",
    "version": 3
   },
   "file_extension": ".py",
   "mimetype": "text/x-python",
   "name": "python",
   "nbconvert_exporter": "python",
   "pygments_lexer": "ipython3",
   "version": "3.9.12"
  },
  "vscode": {
   "interpreter": {
    "hash": "7e1998ff7f8aa20ada591c520b972326324e5ea05489af9e422744c7c09f6dad"
   }
  }
 },
 "nbformat": 4,
 "nbformat_minor": 4
}
